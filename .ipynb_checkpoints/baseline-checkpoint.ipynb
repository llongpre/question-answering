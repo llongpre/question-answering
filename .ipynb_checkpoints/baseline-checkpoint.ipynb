{
 "cells": [
  {
   "cell_type": "code",
   "execution_count": 91,
   "metadata": {
    "collapsed": true
   },
   "outputs": [],
   "source": [
    "#iterate through question.txt and create a list of questions\n",
    "#preproccess the questions to increase the probability of getting subject words\n",
    "#for each question find the files associated with that question\n",
    "#iterate through documents and find the first occurence of content word\n",
    "#FOR PART 1: \n",
    "#When we find one "
   ]
  },
  {
   "cell_type": "code",
   "execution_count": 180,
   "metadata": {
    "collapsed": false
   },
   "outputs": [],
   "source": [
    "from nltk import word_tokenize\n",
    "import numpy as np\n",
    "import re\n",
    "import os\n",
    "import csv"
   ]
  },
  {
   "cell_type": "code",
   "execution_count": 121,
   "metadata": {
    "collapsed": false
   },
   "outputs": [],
   "source": [
    "def questionProcess():\n",
    "    with open('question.txt', 'r') as myfile:\n",
    "        data=myfile.read().replace('\\n', '').replace('\\r', \"\").replace(\"Number: \",\"\").replace(\"Description:\", \"\")\n",
    "        function_words = [' Who ', ' Where ', ' When ', ' the ', ' a ', ' and ', ' or ', ' is ', ' did ',\n",
    "                          'does', ' was ', '?', ' of ', ' from ', ' do ', ' can ', ' come ', ' you ', ' in ', ' most ']\n",
    "        for word in function_words:\n",
    "            data = data.replace(word,\" \")\n",
    "        data = re.split('<top> |<num> |<desc> |</top>', data)\n",
    "        clean_data = {}\n",
    "        for i in range(0,len(data)-2,3):\n",
    "            clean_data[data[i+1]] = data[i+2]\n",
    "        for key in clean_data:\n",
    "            clean_data[key] = max(word_tokenize(clean_data[key]), key=len)\n",
    "        \n",
    "    return clean_data"
   ]
  },
  {
   "cell_type": "code",
   "execution_count": 122,
   "metadata": {
    "collapsed": false
   },
   "outputs": [
    {
     "data": {
      "text/plain": [
       "'Now, for each key in the dictionary, iterate through all files in corresponding folder\\nStop at document with first occurrence of dict[key]\\nTokenize that document\\nFind index of word\\nRecord the 5 moving windows of 10 words around the question word\\nWrite each guess to an output file'"
      ]
     },
     "execution_count": 122,
     "metadata": {},
     "output_type": "execute_result"
    }
   ],
   "source": [
    "'''Now, for each key in the dictionary, iterate through all files in corresponding folder\n",
    "Stop at document with first occurrence of dict[key]\n",
    "Tokenize that document\n",
    "Find index of word\n",
    "Record the 5 moving windows of 10 words around the question word\n",
    "Write each guess to an output file'''"
   ]
  },
  {
   "cell_type": "code",
   "execution_count": 190,
   "metadata": {
    "collapsed": true
   },
   "outputs": [],
   "source": [
    "def generate_output_file(dictionary):\n",
    "    \n",
    "    with open(\"answer.txt\", \"w\") as output:\n",
    "        #output = csv.writer(output, delimiter=\" \")\n",
    "        for key in dictionary: # for each question, open corresponding folder\n",
    "            directory = os.path.join(\"doc_dev/\"+str(key))\n",
    "            word = dictionary[key]\n",
    "\n",
    "            for root,dirs,files in os.walk(directory): # opens each file in the folder\n",
    "                for file in files:\n",
    "                    doc = open(directory + '/' + file).read()\n",
    "                    doc = word_tokenize(doc)\n",
    "                    if word in doc:\n",
    "                        index = doc.index(word)\n",
    "                        answers = []\n",
    "                        if index >= 9 and index <= len(doc) - 10:\n",
    "                            answers.append(doc[index-10:index])\n",
    "                            answers.append(doc[index-8:index+2])\n",
    "                            answers.append(doc[index-6:index+4])\n",
    "                            answers.append(doc[index-4:index+6])\n",
    "                            answers.append(doc[index-2:index+8])\n",
    "                        else:\n",
    "                            answers.append(\"nil\")\n",
    "                            answers.append(\"nil\")\n",
    "                            answers.append(\"nil\")\n",
    "                            answers.append(\"nil\")\n",
    "                            answers.append(\"nil\")\n",
    "                        for answer in answers:\n",
    "                            output.write(key + \" \" + file + \" \" + \" \".join(answer) + \"\\n\")\n",
    "                        break"
   ]
  },
  {
   "cell_type": "code",
   "execution_count": 191,
   "metadata": {
    "collapsed": true
   },
   "outputs": [],
   "source": [
    "question_dict = questionProcess()"
   ]
  },
  {
   "cell_type": "code",
   "execution_count": 192,
   "metadata": {
    "collapsed": false
   },
   "outputs": [],
   "source": [
    "generate_output_file(question_dict)"
   ]
  },
  {
   "cell_type": "code",
   "execution_count": null,
   "metadata": {
    "collapsed": true
   },
   "outputs": [],
   "source": []
  }
 ],
 "metadata": {
  "anaconda-cloud": {},
  "kernelspec": {
   "display_name": "Python [default]",
   "language": "python",
   "name": "python2"
  },
  "language_info": {
   "codemirror_mode": {
    "name": "ipython",
    "version": 2
   },
   "file_extension": ".py",
   "mimetype": "text/x-python",
   "name": "python",
   "nbconvert_exporter": "python",
   "pygments_lexer": "ipython2",
   "version": "2.7.12"
  }
 },
 "nbformat": 4,
 "nbformat_minor": 1
}
