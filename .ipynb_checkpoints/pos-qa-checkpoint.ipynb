{
 "cells": [
  {
   "cell_type": "code",
   "execution_count": 92,
   "metadata": {
    "collapsed": true
   },
   "outputs": [],
   "source": [
    "from nltk import word_tokenize, pos_tag\n",
    "import numpy as np\n",
    "import re\n",
    "import os\n",
    "import csv"
   ]
  },
  {
   "cell_type": "code",
   "execution_count": 133,
   "metadata": {
    "collapsed": true
   },
   "outputs": [],
   "source": [
    "q_num = 89\n",
    "def create_answer_dict(question_num):\n",
    "    path = \"doc_dev/{0}\".format(question_num)\n",
    "    acc_dict = {}\n",
    "    for filename in os.listdir(path):\n",
    "        with open(path+\"/\"+filename, 'r') as myfile:\n",
    "                data=myfile.read().replace('\\n', ' ').replace('\\r', \"\")\n",
    "                #print data\n",
    "                data = re.split('<TEXT>|</TEXT>', data)\n",
    "                \n",
    "                tokenized = word_tokenize(data[1])\n",
    "                \n",
    "                for i in range(len(tokenized)-1):\n",
    "                    \n",
    "                    token = tokenized[i]\n",
    "                    if token in acc_dict:\n",
    "                        acc_dict[token].append((int(filename),i))\n",
    "                        \n",
    "                    else:\n",
    "                        acc_dict[token] = [(int(filename),i)]\n",
    "    return acc_dict\n",
    "                        "
   ]
  },
  {
   "cell_type": "code",
   "execution_count": 134,
   "metadata": {
    "collapsed": false
   },
   "outputs": [],
   "source": [
    "def questionProcess():\n",
    "    with open('question.txt', 'r') as myfile:\n",
    "        data=myfile.read().replace('\\n', '').replace('\\r', \"\").replace(\"Number: \",\"\").replace(\"Description:\", \"\")\n",
    "        data = re.split('<top> |<num> |<desc> |</top>', data)\n",
    "\n",
    "        clean_data = {}\n",
    "        remove = ['IN', 'DT', 'VBD', '.', 'WDT', 'MD', 'VBZ', 'TO', 'PRP', 'POS']\n",
    "        question_words = ['WRB', 'WP']\n",
    "        for i in range(0,len(data)-2,3):\n",
    "            # for each question, tokenize it, POS tag it,\n",
    "            # add the word to clean_data as a value if its POS not in the above lists\n",
    "            clean_data[data[i+1]] = [n[0] for n in pos_tag(word_tokenize(data[i+2])) if n[1] not in remove+question_words]\n",
    "        \n",
    "        \n",
    "    return clean_data"
   ]
  },
  {
   "cell_type": "code",
   "execution_count": 135,
   "metadata": {
    "collapsed": false
   },
   "outputs": [],
   "source": [
    "answer_dict = create_answer_dict(q_num)"
   ]
  },
  {
   "cell_type": "code",
   "execution_count": 136,
   "metadata": {
    "collapsed": false
   },
   "outputs": [],
   "source": [
    "question_dict = questionProcess()"
   ]
  },
  {
   "cell_type": "code",
   "execution_count": 147,
   "metadata": {
    "collapsed": false
   },
   "outputs": [],
   "source": [
    "'''\n",
    "For each word in our question dictionary (for a given question number)\n",
    "searching the answer dictionary, this will return a list of tuples of occurences\n",
    "these tuples will be dictionary key, value will be score\n",
    "Add to the score if '''\n",
    "\n",
    "\n",
    "def get_answers(qdict, adict):\n",
    "    qnum = 89\n",
    "    occ_dict = {}\n",
    "    for word in qdict[str(qnum)]:\n",
    "        occ_list = adict[word]\n",
    "        for tup in occ_list:\n",
    "            if tup[0] in occ_dict:\n",
    "                occ_dict[tup[0]].append(tup[1])\n",
    "            else:\n",
    "                occ_dict[tup[0]] = [tup[1]] \n",
    "    return occ_dict"
   ]
  },
  {
   "cell_type": "code",
   "execution_count": 148,
   "metadata": {
    "collapsed": false
   },
   "outputs": [
    {
     "data": {
      "text/plain": [
       "{1: [25, 147, 200, 233, 265, 282],\n",
       " 2: [7, 104, 130, 139, 160, 166, 179, 196, 230],\n",
       " 3: [111, 140, 245, 404, 457, 69],\n",
       " 4: [58, 85, 151, 185, 311],\n",
       " 5: [52, 120, 213, 321, 455, 228],\n",
       " 6: [41, 140, 168, 217],\n",
       " 7: [0, 101],\n",
       " 8: [26, 77, 88, 126, 168, 175, 205, 262, 296],\n",
       " 9: [32, 114, 163, 264, 281],\n",
       " 10: [32, 114, 163, 264, 281],\n",
       " 11: [18, 61, 94, 114, 131],\n",
       " 12: [7, 103],\n",
       " 13: [13,\n",
       "  53,\n",
       "  95,\n",
       "  108,\n",
       "  146,\n",
       "  178,\n",
       "  247,\n",
       "  273,\n",
       "  306,\n",
       "  354,\n",
       "  387,\n",
       "  471,\n",
       "  498,\n",
       "  511,\n",
       "  637,\n",
       "  660,\n",
       "  691,\n",
       "  719,\n",
       "  772,\n",
       "  815,\n",
       "  834,\n",
       "  857,\n",
       "  903,\n",
       "  924,\n",
       "  942,\n",
       "  985],\n",
       " 14: [52, 142, 431, 463],\n",
       " 15: [20, 349],\n",
       " 16: [3, 89, 107, 120, 149, 156],\n",
       " 17: [67, 133, 245, 251],\n",
       " 18: [67, 133, 245, 251],\n",
       " 19: [36, 212, 252],\n",
       " 20: [8, 13, 133, 186],\n",
       " 21: [175, 297, 318],\n",
       " 22: [91, 113],\n",
       " 23: [23, 59, 84, 183, 244],\n",
       " 24: [107, 367, 393, 432],\n",
       " 25: [133, 235],\n",
       " 26: [0],\n",
       " 27: [145, 199],\n",
       " 28: [9, 76, 94],\n",
       " 29: [22, 118, 172, 206],\n",
       " 30: [13,\n",
       "  30,\n",
       "  51,\n",
       "  99,\n",
       "  287,\n",
       "  294,\n",
       "  338,\n",
       "  356,\n",
       "  382,\n",
       "  400,\n",
       "  444,\n",
       "  502,\n",
       "  524,\n",
       "  758,\n",
       "  858,\n",
       "  994,\n",
       "  1196,\n",
       "  1244,\n",
       "  1280,\n",
       "  1321,\n",
       "  1360],\n",
       " 31: [71, 115],\n",
       " 32: [7, 19, 54, 124, 146, 176, 226, 234, 395, 536, 570, 605],\n",
       " 33: [34, 99, 147, 351, 420, 486, 505, 575, 769, 843, 1033, 1059, 1114, 1270],\n",
       " 34: [17, 25, 67, 114, 246],\n",
       " 35: [320, 614],\n",
       " 36: [886, 950, 973, 991, 1035],\n",
       " 37: [12, 335, 351, 387, 466, 582, 678],\n",
       " 38: [13, 96, 113],\n",
       " 39: [13, 78, 109],\n",
       " 40: [171],\n",
       " 41: [123, 281],\n",
       " 42: [130, 435, 444, 457, 476],\n",
       " 43: [221],\n",
       " 44: [153,\n",
       "  164,\n",
       "  334,\n",
       "  539,\n",
       "  563,\n",
       "  584,\n",
       "  594,\n",
       "  705,\n",
       "  800,\n",
       "  824,\n",
       "  865,\n",
       "  932,\n",
       "  1049,\n",
       "  1079,\n",
       "  1097,\n",
       "  1121,\n",
       "  1165,\n",
       "  1287,\n",
       "  1669,\n",
       "  1675,\n",
       "  1695,\n",
       "  1723,\n",
       "  1736,\n",
       "  1744],\n",
       " 45: [180],\n",
       " 46: [465],\n",
       " 47: [253, 289],\n",
       " 48: [27, 52, 89, 175],\n",
       " 49: [8, 174, 190, 298, 385, 526],\n",
       " 50: [288, 307, 319],\n",
       " 51: [114, 117],\n",
       " 52: [3, 85, 259, 286, 533, 613, 851, 935],\n",
       " 53: [31],\n",
       " 54: [68],\n",
       " 55: [177],\n",
       " 56: [735, 742],\n",
       " 57: [70],\n",
       " 58: [11],\n",
       " 59: [5, 55, 102, 245],\n",
       " 60: [151],\n",
       " 63: [412, 642],\n",
       " 64: [1362, 77],\n",
       " 65: [4, 177, 238, 283, 347, 415],\n",
       " 66: [15, 55, 181, 208, 272, 289, 324],\n",
       " 68: [12, 54, 370, 427],\n",
       " 69: [52, 73],\n",
       " 70: [112, 871],\n",
       " 71: [32, 195],\n",
       " 72: [0, 106],\n",
       " 73: [5, 43, 224],\n",
       " 75: [61],\n",
       " 76: [30, 569, 572, 612, 707, 896],\n",
       " 77: [28, 153, 157],\n",
       " 78: [290],\n",
       " 79: [195, 237],\n",
       " 80: [575],\n",
       " 81: [18, 106],\n",
       " 82: [146],\n",
       " 83: [8, 311, 342, 585],\n",
       " 84: [199],\n",
       " 85: [25, 129, 158],\n",
       " 86: [14, 34],\n",
       " 87: [325],\n",
       " 89: [116],\n",
       " 90: [538],\n",
       " 91: [131],\n",
       " 94: [87],\n",
       " 95: [221, 278],\n",
       " 97: [101],\n",
       " 98: [564],\n",
       " 99: [1544]}"
      ]
     },
     "execution_count": 148,
     "metadata": {},
     "output_type": "execute_result"
    }
   ],
   "source": [
    "get_answers(question_dict, answer_dict)"
   ]
  },
  {
   "cell_type": "code",
   "execution_count": null,
   "metadata": {
    "collapsed": true
   },
   "outputs": [],
   "source": []
  }
 ],
 "metadata": {
  "kernelspec": {
   "display_name": "Python 2",
   "language": "python",
   "name": "python2"
  },
  "language_info": {
   "codemirror_mode": {
    "name": "ipython",
    "version": 2
   },
   "file_extension": ".py",
   "mimetype": "text/x-python",
   "name": "python",
   "nbconvert_exporter": "python",
   "pygments_lexer": "ipython2",
   "version": "2.7.12"
  }
 },
 "nbformat": 4,
 "nbformat_minor": 1
}
