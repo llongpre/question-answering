{
 "cells": [
  {
   "cell_type": "code",
   "execution_count": null,
   "metadata": {
    "collapsed": true
   },
   "outputs": [],
   "source": [
    "#go through each of the files, tokenize as a string and create a dictionary for every token"
   ]
  },
  {
   "cell_type": "code",
   "execution_count": 4,
   "metadata": {
    "collapsed": true
   },
   "outputs": [],
   "source": [
    "from nltk import word_tokenize, pos_tag\n",
    "import numpy as np\n",
    "import re\n",
    "import os"
   ]
  },
  {
   "cell_type": "code",
   "execution_count": 5,
   "metadata": {
    "collapsed": false
   },
   "outputs": [],
   "source": [
    "file_num =89\n",
    "def create_answer_dict(question_num):\n",
    "    path = \"doc_dev/{0}\".format(question_num)\n",
    "    acc_dict = {}\n",
    "    for filename in os.listdir(path):\n",
    "        with open(path+\"/\"+filename, 'r') as myfile:\n",
    "                data=myfile.read().replace('\\n', ' ').replace('\\r', \"\")\n",
    "                #print data\n",
    "                data = re.split('<TEXT>|</TEXT>', data)\n",
    "                \n",
    "                tokenized = word_tokenize(data[1])\n",
    "                \n",
    "                for i in range(len(tokenized)-1):\n",
    "                    \n",
    "                    token = tokenized[i]\n",
    "                    if token in acc_dict.keys():\n",
    "                        acc_dict[token].append((filename,i))\n",
    "                        \n",
    "                    else:\n",
    "                        acc_dict[token] = [(filename,i)]\n",
    "                        "
   ]
  },
  {
   "cell_type": "code",
   "execution_count": 6,
   "metadata": {
    "collapsed": false
   },
   "outputs": [],
   "source": [
    "create_answer_dict(file_num)"
   ]
  },
  {
   "cell_type": "code",
   "execution_count": null,
   "metadata": {
    "collapsed": true
   },
   "outputs": [],
   "source": []
  }
 ],
 "metadata": {
  "kernelspec": {
   "display_name": "Python [default]",
   "language": "python",
   "name": "python2"
  },
  "language_info": {
   "codemirror_mode": {
    "name": "ipython",
    "version": 2
   },
   "file_extension": ".py",
   "mimetype": "text/x-python",
   "name": "python",
   "nbconvert_exporter": "python",
   "pygments_lexer": "ipython2",
   "version": "2.7.12"
  }
 },
 "nbformat": 4,
 "nbformat_minor": 1
}
